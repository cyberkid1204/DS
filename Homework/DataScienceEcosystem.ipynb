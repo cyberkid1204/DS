{
 "cells": [
  {
   "cell_type": "markdown",
   "id": "0187372c-304a-4c89-8b59-97b5103dea94",
   "metadata": {},
   "source": [
    "# Data Science Tools and Ecosystem"
   ]
  },
  {
   "cell_type": "markdown",
   "id": "838c02aa-1d5b-40e2-9ec2-863ebc8ad8fb",
   "metadata": {},
   "source": [
    "In this notebook, Data Science Tools and Ecosystem are summarized.\n",
    "Hope this document could helps you get better knowing \"Markdown\" format and Feel free to reach out if have any questions"
   ]
  },
  {
   "cell_type": "markdown",
   "id": "301b8f0e-e4ae-4559-83f0-c4062fca7ab2",
   "metadata": {},
   "source": [
    "Some of the popular languages that Data Scientists use are:\n",
    "1. R\n",
    "2. Python\n",
    "3. Java\n",
    "4. Julia\n",
    "5. C++\n",
    "6. Golang"
   ]
  },
  {
   "cell_type": "markdown",
   "id": "1e26074c-5fd2-43a1-9332-2a7dc209a441",
   "metadata": {
    "tags": []
   },
   "source": [
    "Some of the commonly used libraries used by Data Scientists include:\n",
    "- Python\n",
    "    1. Numpy - Libraries are based on arrays and matrices, allowing you to apply mathematical functions to the arrays.\n",
    "    2. Pandas - A library that offers data structures and tools foreffective data cleaning, manipulation, and analysis.\n",
    "    3. Matplotlib - package for data visualization.\n",
    "- R\n",
    "    1. Lattice - It is a high-level data visualization library that canhandle graphics without customizations.\n",
    "    2. Leaflet - Used for creating interactive plots.\n",
    "    3. Plotly - Used for web-based data visualizations that can bedisplayed or saved as individual HTML files.\n",
    "    4. ggplot2 - A popular library for data visualization in R.\n",
    "    "
   ]
  },
  {
   "cell_type": "markdown",
   "id": "66fdf850-22fb-4495-9617-8634238c5387",
   "metadata": {
    "jp-MarkdownHeadingCollapsed": true,
    "tags": []
   },
   "source": [
    "__Objectives:__\n",
    "List popular languages for Data Science:\n",
    "- R\n",
    "- JAVA\n",
    "- Python"
   ]
  },
  {
   "cell_type": "markdown",
   "id": "3a7a022f-70f2-4427-a122-404cfaa6e3ed",
   "metadata": {},
   "source": [
    "__Data Science Tools__\n",
    "| Data Science Tools | Description | Key Features |\n",
    "| ---- | ---- | ---- |\n",
    "| Rstudio | An integrated development environment (IDE) for R, widely used for data science and statistical computing. | Provides a user-friendly interface for R, with code completion, syntax highlighting, integrated plotting, and support for markdown and version control. |\n",
    "| JupyterLab | A flexible, web-based environment for Jupyter Notebooks, which supports data science tasks in Python, R, and other languages. | Allows the creation and sharing of documents with live code, equations, visualizations, and narrative text. Supports multiple programming languages and interactive widgets. |\n",
    "| VS Code | A lightweight yet powerful IDE with extensive support for Python, R, and other languages, commonly used in data science workflows. | Supports various extensions for data science (e.g., Jupyter, Python, R). Features include debugging, Git integration, and multi-language development. |"
   ]
  },
  {
   "cell_type": "markdown",
   "id": "e9472a7e-28e0-4f92-8733-d1faf3a0eff3",
   "metadata": {
    "tags": []
   },
   "source": [
    "### Below are a few examples of evaluating arithmetic expressions in Python"
   ]
  },
  {
   "cell_type": "code",
   "execution_count": 3,
   "id": "c4920846-4d93-4b4c-acf8-5ac60bcf120e",
   "metadata": {
    "tags": []
   },
   "outputs": [
    {
     "data": {
      "text/plain": [
       "17"
      ]
     },
     "execution_count": 3,
     "metadata": {},
     "output_type": "execute_result"
    }
   ],
   "source": [
    "# This a simple arithmetic expression to mutiply then add integers\n",
    "(3*4)+5"
   ]
  },
  {
   "cell_type": "code",
   "execution_count": 4,
   "id": "296b6b3f-200c-42cc-b66c-c19911862685",
   "metadata": {
    "tags": []
   },
   "outputs": [
    {
     "data": {
      "text/plain": [
       "3.3333333333333335"
      ]
     },
     "execution_count": 4,
     "metadata": {},
     "output_type": "execute_result"
    }
   ],
   "source": [
    "# This will convert 200 minutes to hours by diving by 60\n",
    "200/60"
   ]
  },
  {
   "cell_type": "markdown",
   "id": "a05977df-60d4-408a-8b58-e0300221ff26",
   "metadata": {
    "tags": []
   },
   "source": [
    "## Author\n",
    "NANZHOU"
   ]
  }
 ],
 "metadata": {
  "kernelspec": {
   "display_name": "Python",
   "language": "python",
   "name": "conda-env-python-py"
  },
  "language_info": {
   "codemirror_mode": {
    "name": "ipython",
    "version": 3
   },
   "file_extension": ".py",
   "mimetype": "text/x-python",
   "name": "python",
   "nbconvert_exporter": "python",
   "pygments_lexer": "ipython3",
   "version": "3.7.12"
  }
 },
 "nbformat": 4,
 "nbformat_minor": 5
}
